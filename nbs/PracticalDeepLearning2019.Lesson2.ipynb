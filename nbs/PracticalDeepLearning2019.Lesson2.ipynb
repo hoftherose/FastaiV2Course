{
 "cells": [
  {
   "cell_type": "code",
   "execution_count": null,
   "metadata": {},
   "outputs": [],
   "source": [
    "from fastai2.vision.all import *"
   ]
  },
  {
   "cell_type": "code",
   "execution_count": null,
   "metadata": {},
   "outputs": [
    {
     "data": {
      "text/html": [],
      "text/plain": [
       "<IPython.core.display.HTML object>"
      ]
     },
     "metadata": {},
     "output_type": "display_data"
    },
    {
     "data": {
      "text/html": [],
      "text/plain": [
       "<IPython.core.display.HTML object>"
      ]
     },
     "metadata": {},
     "output_type": "display_data"
    }
   ],
   "source": [
    "folders = ['Forest', 'Parks']\n",
    "files = ['Forest.csv', 'Parks.csv']\n",
    "\n",
    "for folder,file in zip(folders, files):\n",
    "    path = Path('data/downloads')\n",
    "    dest = path/folder\n",
    "    dest.mkdir(parents=True, exist_ok=True)\n",
    "\n",
    "    download_images(dest, path/file, max_pics=200)"
   ]
  },
  {
   "cell_type": "code",
   "execution_count": null,
   "metadata": {},
   "outputs": [],
   "source": []
  }
 ],
 "metadata": {
  "kernelspec": {
   "display_name": "Python 3",
   "language": "python",
   "name": "python3"
  }
 },
 "nbformat": 4,
 "nbformat_minor": 2
}
