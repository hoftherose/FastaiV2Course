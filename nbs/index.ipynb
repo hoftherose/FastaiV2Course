{
 "cells": [
  {
   "cell_type": "code",
   "execution_count": null,
   "metadata": {},
   "outputs": [],
   "source": [
    "#hide\n",
    "from FastaiV2Course.core import *"
   ]
  },
  {
   "cell_type": "markdown",
   "metadata": {},
   "source": [
    "# FastaiV2Course 2020\n",
    "\n",
    "> Various projects following machine learning and deep learning courses. Mostly centered around fastai and python with a few introductions to swift, tensorflow and vanilla pytorch."
   ]
  },
  {
   "cell_type": "markdown",
   "metadata": {},
   "source": [
    "## Install\n",
    "\n",
    "There is no need to install this as a library, instead clone the repo and install the dependencies to follow along. Conda is recommended but not necessary, if you like you can just install the dependencies in environment.yml using pip.\n",
    "\n",
    "    git clone https://github.com/hoftherose/FastaiV2Course.git\n",
    "    cd FastaiV2Course\n",
    "    conda env create -f environment.yml"
   ]
  },
  {
   "cell_type": "markdown",
   "metadata": {},
   "source": [
    "## How to use\n",
    "\n",
    "This is made to be a course overview using the newer deep learning tools found in pytorch v1, tensorflow v2, fastaiv2 and swift for tensorflow. This is not a tutorial for deep learning, but could be used as such. If you want to follow along with the examples presented here you it would be best to do so with the courses. Links to the corresponding course will be below.\n",
    "\n",
    "If you are looking for more machine/deep learning projects other than the ones found in these courses checkout the [following repo](https://github.com/hoftherose/ML_DL_Projects)."
   ]
  },
  {
   "cell_type": "markdown",
   "metadata": {},
   "source": [
    "# Table of Contents\n",
    "1. [Fastai Deep Learning Coursev3 Lesson 1 (Image Classification)](https://course.fast.ai/videos/?lesson=1): Notebook found [here](https://github.com/hoftherose/FastaiV2Course/blob/master/nbs/00_PracticalDeepLearning2019.Lesson1.ipynb)"
   ]
  },
  {
   "cell_type": "markdown",
   "metadata": {},
   "source": [
    "# Acknowledgements"
   ]
  },
  {
   "cell_type": "markdown",
   "metadata": {},
   "source": [
    "## Documentation\n",
    "This project was documented thanks to fastai's [nbdev library](https://github.com/fastai/nbdev). Great thanks to the fastai team for this tool and for the wonderful work making ai uncool. If you want to find out how to create similar repos that revolve around jupyter notebook check out the [link](https://nbdev.fast.ai/)."
   ]
  },
  {
   "cell_type": "code",
   "execution_count": null,
   "metadata": {},
   "outputs": [],
   "source": []
  }
 ],
 "metadata": {
  "kernelspec": {
   "display_name": "Python 3",
   "language": "python",
   "name": "python3"
  }
 },
 "nbformat": 4,
 "nbformat_minor": 2
}
